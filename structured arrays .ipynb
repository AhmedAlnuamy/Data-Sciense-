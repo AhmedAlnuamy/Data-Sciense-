{
 "cells": [
  {
   "cell_type": "code",
   "execution_count": 1,
   "metadata": {},
   "outputs": [],
   "source": [
    "import numpy as np "
   ]
  },
  {
   "cell_type": "code",
   "execution_count": 29,
   "metadata": {},
   "outputs": [],
   "source": [
    "employee_info=[('name','S10'),('salary','f8'),('age','i8')]"
   ]
  },
  {
   "cell_type": "code",
   "execution_count": 33,
   "metadata": {},
   "outputs": [
    {
     "data": {
      "text/plain": [
       "[('name', 'S10'), ('salary', 'f8'), ('age', 'i8')]"
      ]
     },
     "execution_count": 33,
     "metadata": {},
     "output_type": "execute_result"
    }
   ],
   "source": [
    "employee_info"
   ]
  },
  {
   "cell_type": "code",
   "execution_count": 34,
   "metadata": {},
   "outputs": [],
   "source": [
    "employees_staff=np.zeros((3),dtype=employee_info)"
   ]
  },
  {
   "cell_type": "code",
   "execution_count": 35,
   "metadata": {},
   "outputs": [
    {
     "data": {
      "text/plain": [
       "array([(b'', 0., 0), (b'', 0., 0), (b'', 0., 0)],\n",
       "      dtype=[('name', 'S10'), ('salary', '<f8'), ('age', '<i8')])"
      ]
     },
     "execution_count": 35,
     "metadata": {},
     "output_type": "execute_result"
    }
   ],
   "source": [
    "employees_staff"
   ]
  },
  {
   "cell_type": "code",
   "execution_count": 49,
   "metadata": {},
   "outputs": [],
   "source": [
    "employees_staff[2]=(\"Ahmed\", 3000, 25)"
   ]
  },
  {
   "cell_type": "code",
   "execution_count": 50,
   "metadata": {},
   "outputs": [],
   "source": [
    "employees_staff[1]=(\"Muhmmad\", 6000, 26)"
   ]
  },
  {
   "cell_type": "code",
   "execution_count": 51,
   "metadata": {},
   "outputs": [
    {
     "data": {
      "text/plain": [
       "array([(b'',    0.,  0), (b'Muhmmad', 6000., 26), (b'Ahmed', 3000., 25)],\n",
       "      dtype=[('name', 'S10'), ('salary', '<f8'), ('age', '<i8')])"
      ]
     },
     "execution_count": 51,
     "metadata": {},
     "output_type": "execute_result"
    }
   ],
   "source": [
    "employees_staff"
   ]
  },
  {
   "cell_type": "code",
   "execution_count": 52,
   "metadata": {},
   "outputs": [
    {
     "data": {
      "text/plain": [
       "array([(b'',    0.,  0), (b'Muhmmad', 6000., 26), (b'Ahmed', 3000., 25)],\n",
       "      dtype=[('name', 'S10'), ('salary', '<f8'), ('age', '<i8')])"
      ]
     },
     "execution_count": 52,
     "metadata": {},
     "output_type": "execute_result"
    }
   ],
   "source": [
    "employees_staff[0:]"
   ]
  },
  {
   "cell_type": "code",
   "execution_count": 53,
   "metadata": {},
   "outputs": [
    {
     "data": {
      "text/plain": [
       "array([(b'Muhmmad', 6000., 26), (b'Ahmed', 3000., 25)],\n",
       "      dtype=[('name', 'S10'), ('salary', '<f8'), ('age', '<i8')])"
      ]
     },
     "execution_count": 53,
     "metadata": {},
     "output_type": "execute_result"
    }
   ],
   "source": [
    "employees_staff[1:]"
   ]
  },
  {
   "cell_type": "code",
   "execution_count": 54,
   "metadata": {},
   "outputs": [
    {
     "data": {
      "text/plain": [
       "array([(b'Ahmed', 3000., 25)],\n",
       "      dtype=[('name', 'S10'), ('salary', '<f8'), ('age', '<i8')])"
      ]
     },
     "execution_count": 54,
     "metadata": {},
     "output_type": "execute_result"
    }
   ],
   "source": [
    "employees_staff[2:]"
   ]
  },
  {
   "cell_type": "code",
   "execution_count": 55,
   "metadata": {},
   "outputs": [],
   "source": [
    "salary=employees_staff['salary']"
   ]
  },
  {
   "cell_type": "code",
   "execution_count": 56,
   "metadata": {},
   "outputs": [],
   "source": [
    "age=employees_staff['age']"
   ]
  },
  {
   "cell_type": "code",
   "execution_count": 57,
   "metadata": {},
   "outputs": [],
   "source": [
    "add_salary=salary+2000"
   ]
  },
  {
   "cell_type": "code",
   "execution_count": 58,
   "metadata": {},
   "outputs": [
    {
     "data": {
      "text/plain": [
       "array([2000., 8000., 5000.])"
      ]
     },
     "execution_count": 58,
     "metadata": {},
     "output_type": "execute_result"
    }
   ],
   "source": [
    "add_salary"
   ]
  },
  {
   "cell_type": "code",
   "execution_count": 59,
   "metadata": {},
   "outputs": [
    {
     "data": {
      "text/plain": [
       "array([ 0, 26, 25], dtype=int64)"
      ]
     },
     "execution_count": 59,
     "metadata": {},
     "output_type": "execute_result"
    }
   ],
   "source": [
    "age"
   ]
  },
  {
   "cell_type": "code",
   "execution_count": 60,
   "metadata": {},
   "outputs": [],
   "source": [
    "add_age=age+3"
   ]
  },
  {
   "cell_type": "code",
   "execution_count": 61,
   "metadata": {},
   "outputs": [
    {
     "data": {
      "text/plain": [
       "array([ 3, 29, 28], dtype=int64)"
      ]
     },
     "execution_count": 61,
     "metadata": {},
     "output_type": "execute_result"
    }
   ],
   "source": [
    "add_age"
   ]
  },
  {
   "cell_type": "code",
   "execution_count": 62,
   "metadata": {},
   "outputs": [
    {
     "data": {
      "text/plain": [
       "array([(b'',    0.,  0), (b'Muhmmad', 6000., 26), (b'Ahmed', 3000., 25)],\n",
       "      dtype=[('name', 'S10'), ('salary', '<f8'), ('age', '<i8')])"
      ]
     },
     "execution_count": 62,
     "metadata": {},
     "output_type": "execute_result"
    }
   ],
   "source": [
    "employees_staff"
   ]
  },
  {
   "cell_type": "code",
   "execution_count": 63,
   "metadata": {},
   "outputs": [],
   "source": [
    "all_employees=np.zeros((4,3,2),dtype=employee_info)"
   ]
  },
  {
   "cell_type": "code",
   "execution_count": 64,
   "metadata": {},
   "outputs": [
    {
     "data": {
      "text/plain": [
       "array([[[(b'', 0., 0), (b'', 0., 0)],\n",
       "        [(b'', 0., 0), (b'', 0., 0)],\n",
       "        [(b'', 0., 0), (b'', 0., 0)]],\n",
       "\n",
       "       [[(b'', 0., 0), (b'', 0., 0)],\n",
       "        [(b'', 0., 0), (b'', 0., 0)],\n",
       "        [(b'', 0., 0), (b'', 0., 0)]],\n",
       "\n",
       "       [[(b'', 0., 0), (b'', 0., 0)],\n",
       "        [(b'', 0., 0), (b'', 0., 0)],\n",
       "        [(b'', 0., 0), (b'', 0., 0)]],\n",
       "\n",
       "       [[(b'', 0., 0), (b'', 0., 0)],\n",
       "        [(b'', 0., 0), (b'', 0., 0)],\n",
       "        [(b'', 0., 0), (b'', 0., 0)]]],\n",
       "      dtype=[('name', 'S10'), ('salary', '<f8'), ('age', '<i8')])"
      ]
     },
     "execution_count": 64,
     "metadata": {},
     "output_type": "execute_result"
    }
   ],
   "source": [
    "all_employees"
   ]
  },
  {
   "cell_type": "code",
   "execution_count": 65,
   "metadata": {},
   "outputs": [
    {
     "data": {
      "text/plain": [
       "array([[[b'', b''],\n",
       "        [b'', b''],\n",
       "        [b'', b'']],\n",
       "\n",
       "       [[b'', b''],\n",
       "        [b'', b''],\n",
       "        [b'', b'']],\n",
       "\n",
       "       [[b'', b''],\n",
       "        [b'', b''],\n",
       "        [b'', b'']],\n",
       "\n",
       "       [[b'', b''],\n",
       "        [b'', b''],\n",
       "        [b'', b'']]], dtype='|S10')"
      ]
     },
     "execution_count": 65,
     "metadata": {},
     "output_type": "execute_result"
    }
   ],
   "source": [
    "all_employees['name']"
   ]
  },
  {
   "cell_type": "code",
   "execution_count": 66,
   "metadata": {},
   "outputs": [
    {
     "data": {
      "text/plain": [
       "array([[[0, 0],\n",
       "        [0, 0],\n",
       "        [0, 0]],\n",
       "\n",
       "       [[0, 0],\n",
       "        [0, 0],\n",
       "        [0, 0]],\n",
       "\n",
       "       [[0, 0],\n",
       "        [0, 0],\n",
       "        [0, 0]],\n",
       "\n",
       "       [[0, 0],\n",
       "        [0, 0],\n",
       "        [0, 0]]], dtype=int64)"
      ]
     },
     "execution_count": 66,
     "metadata": {},
     "output_type": "execute_result"
    }
   ],
   "source": [
    "all_employees['age']"
   ]
  },
  {
   "cell_type": "code",
   "execution_count": 67,
   "metadata": {},
   "outputs": [
    {
     "data": {
      "text/plain": [
       "array([[[0., 0.],\n",
       "        [0., 0.],\n",
       "        [0., 0.]],\n",
       "\n",
       "       [[0., 0.],\n",
       "        [0., 0.],\n",
       "        [0., 0.]],\n",
       "\n",
       "       [[0., 0.],\n",
       "        [0., 0.],\n",
       "        [0., 0.]],\n",
       "\n",
       "       [[0., 0.],\n",
       "        [0., 0.],\n",
       "        [0., 0.]]])"
      ]
     },
     "execution_count": 67,
     "metadata": {},
     "output_type": "execute_result"
    }
   ],
   "source": [
    "all_employees['salary']"
   ]
  },
  {
   "cell_type": "code",
   "execution_count": 68,
   "metadata": {},
   "outputs": [
    {
     "data": {
      "text/plain": [
       "array([[[(b'', 0., 0), (b'', 0., 0)],\n",
       "        [(b'', 0., 0), (b'', 0., 0)],\n",
       "        [(b'', 0., 0), (b'', 0., 0)]],\n",
       "\n",
       "       [[(b'', 0., 0), (b'', 0., 0)],\n",
       "        [(b'', 0., 0), (b'', 0., 0)],\n",
       "        [(b'', 0., 0), (b'', 0., 0)]],\n",
       "\n",
       "       [[(b'', 0., 0), (b'', 0., 0)],\n",
       "        [(b'', 0., 0), (b'', 0., 0)],\n",
       "        [(b'', 0., 0), (b'', 0., 0)]],\n",
       "\n",
       "       [[(b'', 0., 0), (b'', 0., 0)],\n",
       "        [(b'', 0., 0), (b'', 0., 0)],\n",
       "        [(b'', 0., 0), (b'', 0., 0)]]],\n",
       "      dtype=[('name', 'S10'), ('salary', '<f8'), ('age', '<i8')])"
      ]
     },
     "execution_count": 68,
     "metadata": {},
     "output_type": "execute_result"
    }
   ],
   "source": [
    "all_employees"
   ]
  },
  {
   "cell_type": "code",
   "execution_count": 69,
   "metadata": {},
   "outputs": [],
   "source": [
    "all_employees[0,0,1]=('Ahmed',3000,25)"
   ]
  },
  {
   "cell_type": "code",
   "execution_count": 70,
   "metadata": {},
   "outputs": [
    {
     "data": {
      "text/plain": [
       "array([[[(b'',    0.,  0), (b'Ahmed', 3000., 25)],\n",
       "        [(b'',    0.,  0), (b'',    0.,  0)],\n",
       "        [(b'',    0.,  0), (b'',    0.,  0)]],\n",
       "\n",
       "       [[(b'',    0.,  0), (b'',    0.,  0)],\n",
       "        [(b'',    0.,  0), (b'',    0.,  0)],\n",
       "        [(b'',    0.,  0), (b'',    0.,  0)]],\n",
       "\n",
       "       [[(b'',    0.,  0), (b'',    0.,  0)],\n",
       "        [(b'',    0.,  0), (b'',    0.,  0)],\n",
       "        [(b'',    0.,  0), (b'',    0.,  0)]],\n",
       "\n",
       "       [[(b'',    0.,  0), (b'',    0.,  0)],\n",
       "        [(b'',    0.,  0), (b'',    0.,  0)],\n",
       "        [(b'',    0.,  0), (b'',    0.,  0)]]],\n",
       "      dtype=[('name', 'S10'), ('salary', '<f8'), ('age', '<i8')])"
      ]
     },
     "execution_count": 70,
     "metadata": {},
     "output_type": "execute_result"
    }
   ],
   "source": [
    "all_employees"
   ]
  },
  {
   "cell_type": "code",
   "execution_count": 71,
   "metadata": {},
   "outputs": [],
   "source": [
    "all_employees[1,1,0]=('Adnan',4000,20)"
   ]
  },
  {
   "cell_type": "code",
   "execution_count": 72,
   "metadata": {},
   "outputs": [
    {
     "data": {
      "text/plain": [
       "array([[[(b'',    0.,  0), (b'Ahmed', 3000., 25)],\n",
       "        [(b'',    0.,  0), (b'',    0.,  0)],\n",
       "        [(b'',    0.,  0), (b'',    0.,  0)]],\n",
       "\n",
       "       [[(b'',    0.,  0), (b'',    0.,  0)],\n",
       "        [(b'Adnan', 4000., 20), (b'',    0.,  0)],\n",
       "        [(b'',    0.,  0), (b'',    0.,  0)]],\n",
       "\n",
       "       [[(b'',    0.,  0), (b'',    0.,  0)],\n",
       "        [(b'',    0.,  0), (b'',    0.,  0)],\n",
       "        [(b'',    0.,  0), (b'',    0.,  0)]],\n",
       "\n",
       "       [[(b'',    0.,  0), (b'',    0.,  0)],\n",
       "        [(b'',    0.,  0), (b'',    0.,  0)],\n",
       "        [(b'',    0.,  0), (b'',    0.,  0)]]],\n",
       "      dtype=[('name', 'S10'), ('salary', '<f8'), ('age', '<i8')])"
      ]
     },
     "execution_count": 72,
     "metadata": {},
     "output_type": "execute_result"
    }
   ],
   "source": [
    "all_employees"
   ]
  },
  {
   "cell_type": "code",
   "execution_count": 73,
   "metadata": {},
   "outputs": [],
   "source": [
    "all_employees[3,0,1]=('Muhmmed',5000,50)"
   ]
  },
  {
   "cell_type": "code",
   "execution_count": 74,
   "metadata": {},
   "outputs": [
    {
     "data": {
      "text/plain": [
       "array([[[(b'',    0.,  0), (b'Ahmed', 3000., 25)],\n",
       "        [(b'',    0.,  0), (b'',    0.,  0)],\n",
       "        [(b'',    0.,  0), (b'',    0.,  0)]],\n",
       "\n",
       "       [[(b'',    0.,  0), (b'',    0.,  0)],\n",
       "        [(b'Adnan', 4000., 20), (b'',    0.,  0)],\n",
       "        [(b'',    0.,  0), (b'',    0.,  0)]],\n",
       "\n",
       "       [[(b'',    0.,  0), (b'',    0.,  0)],\n",
       "        [(b'',    0.,  0), (b'',    0.,  0)],\n",
       "        [(b'',    0.,  0), (b'',    0.,  0)]],\n",
       "\n",
       "       [[(b'',    0.,  0), (b'Muhmmed', 5000., 50)],\n",
       "        [(b'',    0.,  0), (b'',    0.,  0)],\n",
       "        [(b'',    0.,  0), (b'',    0.,  0)]]],\n",
       "      dtype=[('name', 'S10'), ('salary', '<f8'), ('age', '<i8')])"
      ]
     },
     "execution_count": 74,
     "metadata": {},
     "output_type": "execute_result"
    }
   ],
   "source": [
    "all_employees"
   ]
  },
  {
   "cell_type": "code",
   "execution_count": 75,
   "metadata": {},
   "outputs": [],
   "source": [
    "all_employees[2,0,0]=('Muhmmed',9000,43)"
   ]
  },
  {
   "cell_type": "code",
   "execution_count": 76,
   "metadata": {},
   "outputs": [
    {
     "data": {
      "text/plain": [
       "array([[[(b'',    0.,  0), (b'Ahmed', 3000., 25)],\n",
       "        [(b'',    0.,  0), (b'',    0.,  0)],\n",
       "        [(b'',    0.,  0), (b'',    0.,  0)]],\n",
       "\n",
       "       [[(b'',    0.,  0), (b'',    0.,  0)],\n",
       "        [(b'Adnan', 4000., 20), (b'',    0.,  0)],\n",
       "        [(b'',    0.,  0), (b'',    0.,  0)]],\n",
       "\n",
       "       [[(b'Muhmmed', 9000., 43), (b'',    0.,  0)],\n",
       "        [(b'',    0.,  0), (b'',    0.,  0)],\n",
       "        [(b'',    0.,  0), (b'',    0.,  0)]],\n",
       "\n",
       "       [[(b'',    0.,  0), (b'Muhmmed', 5000., 50)],\n",
       "        [(b'',    0.,  0), (b'',    0.,  0)],\n",
       "        [(b'',    0.,  0), (b'',    0.,  0)]]],\n",
       "      dtype=[('name', 'S10'), ('salary', '<f8'), ('age', '<i8')])"
      ]
     },
     "execution_count": 76,
     "metadata": {},
     "output_type": "execute_result"
    }
   ],
   "source": [
    "all_employees"
   ]
  },
  {
   "cell_type": "code",
   "execution_count": 77,
   "metadata": {},
   "outputs": [
    {
     "data": {
      "text/plain": [
       "array([[[b'', b'Ahmed'],\n",
       "        [b'', b''],\n",
       "        [b'', b'']],\n",
       "\n",
       "       [[b'', b''],\n",
       "        [b'Adnan', b''],\n",
       "        [b'', b'']],\n",
       "\n",
       "       [[b'Muhmmed', b''],\n",
       "        [b'', b''],\n",
       "        [b'', b'']],\n",
       "\n",
       "       [[b'', b'Muhmmed'],\n",
       "        [b'', b''],\n",
       "        [b'', b'']]], dtype='|S10')"
      ]
     },
     "execution_count": 77,
     "metadata": {},
     "output_type": "execute_result"
    }
   ],
   "source": [
    "all_employees['name']"
   ]
  },
  {
   "cell_type": "code",
   "execution_count": 78,
   "metadata": {},
   "outputs": [
    {
     "data": {
      "text/plain": [
       "array([[[ 0, 25],\n",
       "        [ 0,  0],\n",
       "        [ 0,  0]],\n",
       "\n",
       "       [[ 0,  0],\n",
       "        [20,  0],\n",
       "        [ 0,  0]],\n",
       "\n",
       "       [[43,  0],\n",
       "        [ 0,  0],\n",
       "        [ 0,  0]],\n",
       "\n",
       "       [[ 0, 50],\n",
       "        [ 0,  0],\n",
       "        [ 0,  0]]], dtype=int64)"
      ]
     },
     "execution_count": 78,
     "metadata": {},
     "output_type": "execute_result"
    }
   ],
   "source": [
    "all_employees['age']"
   ]
  },
  {
   "cell_type": "code",
   "execution_count": 79,
   "metadata": {},
   "outputs": [
    {
     "data": {
      "text/plain": [
       "array([[[   0., 3000.],\n",
       "        [   0.,    0.],\n",
       "        [   0.,    0.]],\n",
       "\n",
       "       [[   0.,    0.],\n",
       "        [4000.,    0.],\n",
       "        [   0.,    0.]],\n",
       "\n",
       "       [[9000.,    0.],\n",
       "        [   0.,    0.],\n",
       "        [   0.,    0.]],\n",
       "\n",
       "       [[   0., 5000.],\n",
       "        [   0.,    0.],\n",
       "        [   0.,    0.]]])"
      ]
     },
     "execution_count": 79,
     "metadata": {},
     "output_type": "execute_result"
    }
   ],
   "source": [
    "all_employees['salary']"
   ]
  },
  {
   "cell_type": "code",
   "execution_count": 80,
   "metadata": {},
   "outputs": [
    {
     "data": {
      "text/plain": [
       "array([[[(b'',  0), (b'Ahmed', 25)],\n",
       "        [(b'',  0), (b'',  0)],\n",
       "        [(b'',  0), (b'',  0)]],\n",
       "\n",
       "       [[(b'',  0), (b'',  0)],\n",
       "        [(b'Adnan', 20), (b'',  0)],\n",
       "        [(b'',  0), (b'',  0)]],\n",
       "\n",
       "       [[(b'Muhmmed', 43), (b'',  0)],\n",
       "        [(b'',  0), (b'',  0)],\n",
       "        [(b'',  0), (b'',  0)]],\n",
       "\n",
       "       [[(b'',  0), (b'Muhmmed', 50)],\n",
       "        [(b'',  0), (b'',  0)],\n",
       "        [(b'',  0), (b'',  0)]]],\n",
       "      dtype={'names':['name','age'], 'formats':['S10','<i8'], 'offsets':[0,18], 'itemsize':26})"
      ]
     },
     "execution_count": 80,
     "metadata": {},
     "output_type": "execute_result"
    }
   ],
   "source": [
    "all_employees[['name', 'age']]"
   ]
  },
  {
   "cell_type": "code",
   "execution_count": null,
   "metadata": {},
   "outputs": [],
   "source": [
    "all_employees[['name', 'salary']]"
   ]
  }
 ],
 "metadata": {
  "kernelspec": {
   "display_name": "Python 3",
   "language": "python",
   "name": "python3"
  },
  "language_info": {
   "codemirror_mode": {
    "name": "ipython",
    "version": 3
   },
   "file_extension": ".py",
   "mimetype": "text/x-python",
   "name": "python",
   "nbconvert_exporter": "python",
   "pygments_lexer": "ipython3",
   "version": "3.8.5"
  }
 },
 "nbformat": 4,
 "nbformat_minor": 4
}
